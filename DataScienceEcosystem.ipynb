{
 "cells": [
  {
   "cell_type": "code",
   "execution_count": null,
   "id": "3bd2a509-86e2-4b7e-adb5-97d2aa4a1104",
   "metadata": {},
   "outputs": [],
   "source": []
  },
  {
   "cell_type": "markdown",
   "id": "8a82fe0b-0e3b-4897-b158-943f1b04c565",
   "metadata": {},
   "source": [
    "# Data Science Tools and Ecosystem\n"
   ]
  },
  {
   "cell_type": "markdown",
   "id": "63281752-7fe5-498c-9331-0b5cafad733f",
   "metadata": {},
   "source": [
    "In this notebook, we will provide a summary of the Data Science Tools and Ecosystem, exploring the various tools and technologies commonly used in the field of data science. We will walk through the steps to analyze and visualize data, apply machine learning algorithms, and showcase the essential libraries and frameworks used in Jupyter Notebook.\n"
   ]
  },
  {
   "cell_type": "markdown",
   "id": "ce027972-0974-4c6d-82d2-dd5dd5bb1d59",
   "metadata": {},
   "source": [
    "Some of the popular languages that Data Scientists use are:\n",
    "\n",
    "1. Python\n",
    "2. R\n",
    "3. Julia\n"
   ]
  },
  {
   "cell_type": "markdown",
   "id": "d6889489-9a91-4263-be4a-9a902b5d824a",
   "metadata": {},
   "source": [
    "Some of the commonly used libraries used by Data Scientists include:\n",
    "\n",
    "- NumPy\n",
    "- Pandas\n",
    "- Matplotlib\n"
   ]
  },
  {
   "cell_type": "markdown",
   "id": "fe643024-6980-4053-97f1-6bf9dd639b56",
   "metadata": {},
   "source": [
    "| Data Science Tools |\n",
    "| ------------------ |\n",
    "| Jupyter Notebook   |\n",
    "| RStudio            |\n",
    "| PyCharm            |\n"
   ]
  },
  {
   "cell_type": "markdown",
   "id": "b9521ab9-4e28-46b8-ad26-e14e88808dc9",
   "metadata": {},
   "source": [
    "### Below are a few examples of evaluating arithmetic expressions in Python\n"
   ]
  },
  {
   "cell_type": "code",
   "execution_count": 2,
   "id": "1cc0b22a-ca6d-46aa-b4b0-a9bb8b4911ab",
   "metadata": {
    "tags": []
   },
   "outputs": [
    {
     "data": {
      "text/plain": [
       "17"
      ]
     },
     "execution_count": 2,
     "metadata": {},
     "output_type": "execute_result"
    }
   ],
   "source": [
    "# This is a simple arithmetic expression to multiply then add integers\n",
    "result = (3 * 4) + 5\n",
    "result\n"
   ]
  },
  {
   "cell_type": "code",
   "execution_count": 3,
   "id": "90ac86f4-844d-4f5c-8129-2e194510ba45",
   "metadata": {
    "tags": []
   },
   "outputs": [
    {
     "data": {
      "text/plain": [
       "3.3333333333333335"
      ]
     },
     "execution_count": 3,
     "metadata": {},
     "output_type": "execute_result"
    }
   ],
   "source": [
    "# This will convert 200 minutes to hours by dividing by 60\n",
    "minutes = 200\n",
    "hours = minutes / 60\n",
    "hours\n"
   ]
  },
  {
   "cell_type": "markdown",
   "id": "fc335559-7409-4ce1-93e2-cbd9fc9cb173",
   "metadata": {},
   "source": [
    "**Objectives:**\n",
    "\n",
    "- List popular languages for Data Science.\n",
    "- Explore commonly used libraries in data science.\n",
    "- Understand arithmetic expression evaluation in Python.\n",
    "- Convert minutes to hours using simple expressions.\n",
    "- Summarize the Data Science Tools and Ecosystem.\n"
   ]
  },
  {
   "cell_type": "markdown",
   "id": "aee05e50-8f02-43b0-a1bd-a8de6a289f92",
   "metadata": {},
   "source": [
    "## Author\n",
    "Rahal Bency Paul\n"
   ]
  },
  {
   "cell_type": "code",
   "execution_count": null,
   "id": "e10633bc-2522-4ec5-ae3e-c166e02f579a",
   "metadata": {},
   "outputs": [],
   "source": []
  }
 ],
 "metadata": {
  "kernelspec": {
   "display_name": "Python",
   "language": "python",
   "name": "conda-env-python-py"
  },
  "language_info": {
   "codemirror_mode": {
    "name": "ipython",
    "version": 3
   },
   "file_extension": ".py",
   "mimetype": "text/x-python",
   "name": "python",
   "nbconvert_exporter": "python",
   "pygments_lexer": "ipython3",
   "version": "3.7.12"
  }
 },
 "nbformat": 4,
 "nbformat_minor": 5
}
